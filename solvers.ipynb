{
 "cells": [
  {
   "cell_type": "code",
   "execution_count": 1,
   "id": "fe527d5c",
   "metadata": {},
   "outputs": [],
   "source": [
    "import itertools\n",
    "import re\n",
    "import json\n",
    "import random"
   ]
  },
  {
   "cell_type": "code",
   "execution_count": 2,
   "id": "aa852c9b",
   "metadata": {},
   "outputs": [],
   "source": [
    "class CNF:\n",
    "    def __init__(self, dimacs):\n",
    "        dimacs_tokens = re.split('\\s+', dimacs)\n",
    "        self.num_of_vars = int(dimacs_tokens[2])\n",
    "        self.num_of_clauses = int(dimacs_tokens[3])\n",
    "        clauses_dimacs = [int(x) for x in dimacs_tokens[4:]]\n",
    "        self.clauses = [list(clause) for is_zero, clause \n",
    "                    in itertools.groupby(clauses_dimacs, lambda x: x == 0) \n",
    "                    if not is_zero]\n",
    "        \n",
    "    def evaluate(self, valuation):\n",
    "        for clause in self.clauses:\n",
    "            clause_sat = False\n",
    "            for literal in clause:\n",
    "                val_idx = abs(literal) - 1\n",
    "                if literal > 0 and valuation[val_idx] or literal < 0 and not valuation[val_idx]:\n",
    "                    clause_sat = True\n",
    "                    break\n",
    "            if not clause_sat:\n",
    "                return False\n",
    "        return True"
   ]
  },
  {
   "cell_type": "code",
   "execution_count": 3,
   "id": "77912cd9",
   "metadata": {},
   "outputs": [],
   "source": [
    "class Problem:\n",
    "    def __init__(self, file_name):\n",
    "        try:\n",
    "            with open(file_name, 'r') as f:\n",
    "                dimacs_list = json.load(f)\n",
    "                self.cnf_list = [CNF(dimacs) for dimacs in dimacs_list]\n",
    "                self.num_of_vars = self.cnf_list[0].num_of_vars\n",
    "        except IOError:\n",
    "            print(f'Error opening file {file_name}')\n",
    "            exit(1)"
   ]
  },
  {
   "cell_type": "code",
   "execution_count": 8,
   "id": "a2a97d31",
   "metadata": {},
   "outputs": [],
   "source": [
    "class BFSolver:\n",
    "    def solve(self, problem):\n",
    "        all_valuations = itertools.product([True, False], repeat=problem.num_of_vars)\n",
    "        min_num_of_sat = float('inf')\n",
    "        best_valuation = None\n",
    "        iters = 0\n",
    "        for valuation in all_valuations:\n",
    "            iters += 1\n",
    "            num_of_sat = 0\n",
    "            for formula in problem.cnf_list:\n",
    "                if formula.evaluate(valuation):\n",
    "                    num_of_sat += 1\n",
    "            if num_of_sat < min_num_of_sat:\n",
    "                min_num_of_sat = num_of_sat\n",
    "                best_valuation = valuation\n",
    "        return min_num_of_sat, best_valuation"
   ]
  },
  {
   "cell_type": "code",
   "execution_count": 9,
   "id": "29f63c58",
   "metadata": {},
   "outputs": [
    {
     "name": "stdout",
     "output_type": "stream",
     "text": [
      "(30, (True, True, True, False, False, False, False, False, True, True))\n"
     ]
    }
   ],
   "source": [
    "p = Problem('problem_instances/1.json')\n",
    "bfs_solver = BFSolver()\n",
    "print(bfs_solver.solve(p))"
   ]
  }
 ],
 "metadata": {
  "kernelspec": {
   "display_name": "Python 3 (ipykernel)",
   "language": "python",
   "name": "python3"
  },
  "language_info": {
   "codemirror_mode": {
    "name": "ipython",
    "version": 3
   },
   "file_extension": ".py",
   "mimetype": "text/x-python",
   "name": "python",
   "nbconvert_exporter": "python",
   "pygments_lexer": "ipython3",
   "version": "3.8.10"
  }
 },
 "nbformat": 4,
 "nbformat_minor": 5
}
