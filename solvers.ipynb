{
 "cells": [
  {
   "cell_type": "code",
   "execution_count": 10,
   "id": "fe527d5c",
   "metadata": {},
   "outputs": [],
   "source": [
    "import itertools\n",
    "import re\n",
    "import json\n",
    "import random\n",
    "import time"
   ]
  },
  {
   "cell_type": "code",
   "execution_count": 4,
   "id": "aa852c9b",
   "metadata": {},
   "outputs": [],
   "source": [
    "class CNF:\n",
    "    def __init__(self, dimacs):\n",
    "        dimacs_tokens = re.split('\\s+', dimacs)\n",
    "        self.num_of_vars = int(dimacs_tokens[2])\n",
    "        self.num_of_clauses = int(dimacs_tokens[3])\n",
    "        clauses_dimacs = [int(x) for x in dimacs_tokens[4:]]\n",
    "        self.clauses = [list(clause) for is_zero, clause \n",
    "                    in itertools.groupby(clauses_dimacs, lambda x: x == 0) \n",
    "                    if not is_zero]\n",
    "        \n",
    "    def evaluate(self, valuation):\n",
    "        for clause in self.clauses:\n",
    "            clause_sat = False\n",
    "            for literal in clause:\n",
    "                val_idx = abs(literal) - 1\n",
    "                if literal > 0 and valuation[val_idx] or literal < 0 and not valuation[val_idx]:\n",
    "                    clause_sat = True\n",
    "                    break\n",
    "            if not clause_sat:\n",
    "                return False\n",
    "        return True"
   ]
  },
  {
   "cell_type": "code",
   "execution_count": 5,
   "id": "77912cd9",
   "metadata": {},
   "outputs": [],
   "source": [
    "class Problem:\n",
    "    def __init__(self, file_name):\n",
    "        try:\n",
    "            with open(file_name, 'r') as f:\n",
    "                dimacs_list = json.load(f)\n",
    "                self.cnf_list = [CNF(dimacs) for dimacs in dimacs_list]\n",
    "                self.num_of_vars = self.cnf_list[0].num_of_vars\n",
    "        except IOError:\n",
    "            print(f'Error opening file {file_name}')\n",
    "            exit(1)"
   ]
  },
  {
   "cell_type": "code",
   "execution_count": 29,
   "id": "1e5fe0b7",
   "metadata": {},
   "outputs": [],
   "source": [
    "class Solution:\n",
    "    def __init__(self, problem, code=None):\n",
    "        self.problem = problem\n",
    "        if code is None:\n",
    "            self.code = random.choices([True, False], k=self.problem.num_of_vars)\n",
    "        else:\n",
    "            self.code = code\n",
    "        self.fitness = self.calc_fitness()\n",
    "        \n",
    "    def __lt__(self, other):\n",
    "        return self.fitness < other.fitness\n",
    "    \n",
    "    def calc_fitness(self):\n",
    "        num_of_sat = 0\n",
    "        for formula in self.problem.cnf_list:\n",
    "            if formula.evaluate(self.code):\n",
    "                num_of_sat += 1\n",
    "        return 1 / (num_of_sat + 1)\n",
    "    \n",
    "    def get_num_sat(self):\n",
    "        return round(1 / self.fitness - 1)"
   ]
  },
  {
   "cell_type": "code",
   "execution_count": 65,
   "id": "a2a97d31",
   "metadata": {},
   "outputs": [],
   "source": [
    "class BFSolver:\n",
    "    @staticmethod\n",
    "    def solve(problem):\n",
    "        solutions = [Solution(problem, valuation) for valuation in \n",
    "                     itertools.product([True, False], repeat=problem.num_of_vars)]\n",
    "        return max(solutions)"
   ]
  },
  {
   "cell_type": "code",
   "execution_count": 8,
   "id": "33fbe125",
   "metadata": {},
   "outputs": [],
   "source": [
    "class GeneticSolver:\n",
    "    def __init__(self, num_of_generations=10, population_size=10, mutation_probability=0.2):\n",
    "        self.num_of_generations = num_of_generations\n",
    "        self.population_size = population_size\n",
    "        self.mutation_probability = mutation_probability\n",
    "\n",
    "    def _generate_population(self, problem):\n",
    "        chromosome_dim = problem.num_of_vars\n",
    "        return [[random.choice([True, False]) for _ in range(chromosome_dim)] for _ in range(self.population_size)]\n",
    "\n",
    "    def _fitness(self, problem, chromosome):\n",
    "        num_of_sat = 0\n",
    "        for formula in problem.cnf_list:\n",
    "            if formula.evaluate(chromosome):\n",
    "                num_of_sat = num_of_sat + 1\n",
    "        return num_of_sat\n",
    "\n",
    "    def _selection(self, population, fitness_list):\n",
    "        # FIX maybe better _selection, or lower mutation\n",
    "        return random.choices(population, weights=[1 / (fitness + 1) for fitness in fitness_list], k=1)[0]\n",
    "\n",
    "    def _crossover(self, parent_1, parent_2):\n",
    "        bp = random.randrange(len(parent_1))\n",
    "        child_1 = parent_1[:bp] + parent_2[bp:]\n",
    "        child_2 = parent_2[:bp] + parent_1[bp:]\n",
    "        return child_1, child_2\n",
    "\n",
    "    def _mutate(self, chromosome):\n",
    "        if random.random() < self.mutation_probability:\n",
    "            index = random.randrange(len(chromosome))\n",
    "            chromosome[index] = not chromosome[index]\n",
    "\n",
    "    def solve(self, problem):\n",
    "        population = self._generate_population(problem)\n",
    "        fitness_list = [self._fitness(problem, chromosome) for chromosome in population]\n",
    "        min_sat = min(fitness_list)\n",
    "        new_population = [None for _ in range(len(population))]\n",
    "        for i in range(self.num_of_generations):\n",
    "            for j in range(self.population_size // 2):\n",
    "                parent_1 = self._selection(population, fitness_list)\n",
    "                parent_2 = self._selection(population, fitness_list)\n",
    "                child_1, child_2 = self._crossover(parent_1, parent_2)\n",
    "                self._mutate(child_1)\n",
    "                self._mutate(child_2)\n",
    "                new_population[2 * j] = child_1\n",
    "                new_population[2 * j + 1] = child_2\n",
    "            population = new_population\n",
    "            fitness_list = [self._fitness(problem, chromosome) for chromosome in population]\n",
    "            min_sat = min(fitness_list + [min_sat])\n",
    "            print(f'generation[{i}] :  {min_sat}')\n",
    "        return min_sat"
   ]
  },
  {
   "cell_type": "code",
   "execution_count": 63,
   "id": "29f63c58",
   "metadata": {},
   "outputs": [
    {
     "name": "stdout",
     "output_type": "stream",
     "text": [
      "(True, True, True, False, False, False, False, False, True, True) 30\n",
      "0.12578558921813965\n"
     ]
    }
   ],
   "source": [
    "p = Problem('problem_instances/1.json')\n",
    "bf_solver = BFSolver()\n",
    "start_time = time.time()\n",
    "result = BFSolver.solve(p)\n",
    "print(f'{result.code} {result.get_num_sat()}')\n",
    "print(time.time() - start_time)\n",
    "#ga_solver = GeneticSolver()\n",
    "#print(ga_solver.solve(p))"
   ]
  },
  {
   "cell_type": "code",
   "execution_count": null,
   "id": "fa300429",
   "metadata": {},
   "outputs": [],
   "source": []
  }
 ],
 "metadata": {
  "kernelspec": {
   "display_name": "Python 3 (ipykernel)",
   "language": "python",
   "name": "python3"
  },
  "language_info": {
   "codemirror_mode": {
    "name": "ipython",
    "version": 3
   },
   "file_extension": ".py",
   "mimetype": "text/x-python",
   "name": "python",
   "nbconvert_exporter": "python",
   "pygments_lexer": "ipython3",
   "version": "3.8.10"
  }
 },
 "nbformat": 4,
 "nbformat_minor": 5
}
