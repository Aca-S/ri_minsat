{
 "cells": [
  {
   "cell_type": "code",
   "execution_count": 160,
   "id": "fe527d5c",
   "metadata": {},
   "outputs": [],
   "source": [
    "import itertools\n",
    "import re\n",
    "import json\n",
    "import random"
   ]
  },
  {
   "cell_type": "code",
   "execution_count": 161,
   "id": "aa852c9b",
   "metadata": {},
   "outputs": [],
   "source": [
    "class CNF:\n",
    "    def __init__(self, dimacs):\n",
    "        dimacs_tokens = re.split('\\s+', dimacs)\n",
    "        self.num_of_vars = int(dimacs_tokens[2])\n",
    "        self.num_of_clauses = int(dimacs_tokens[3])\n",
    "        clauses_dimacs = [int(x) for x in dimacs_tokens[4:]]\n",
    "        self.clauses = [list(clause) for is_zero, clause \n",
    "                    in itertools.groupby(clauses_dimacs, lambda x: x == 0) \n",
    "                    if not is_zero]\n",
    "        \n",
    "    def evaluate(self, valuation):\n",
    "        for clause in self.clauses:\n",
    "            clause_sat = False\n",
    "            for literal in clause:\n",
    "                val_idx = abs(literal) - 1\n",
    "                if literal > 0 and valuation[val_idx] or literal < 0 and not valuation[val_idx]:\n",
    "                    clause_sat = True\n",
    "                    break\n",
    "            if not clause_sat:\n",
    "                return False\n",
    "        return True"
   ]
  },
  {
   "cell_type": "code",
   "execution_count": 162,
   "id": "77912cd9",
   "metadata": {},
   "outputs": [],
   "source": [
    "class Problem:\n",
    "    def __init__(self, file_name):\n",
    "        try:\n",
    "            with open(file_name, 'r') as f:\n",
    "                dimacs_list = json.load(f)\n",
    "                self.cnf_list = [CNF(dimacs) for dimacs in dimacs_list]\n",
    "                self.num_of_vars = self.cnf_list[0].num_of_vars\n",
    "        except IOError:\n",
    "            print(f'Error opening file {file_name}')\n",
    "            exit(1)"
   ]
  },
  {
   "cell_type": "code",
   "execution_count": 163,
   "id": "a2a97d31",
   "metadata": {},
   "outputs": [],
   "source": [
    "class BFSolver:\n",
    "    @staticmethod\n",
    "    def solve(problem):\n",
    "        all_valuations = itertools.product([True, False], repeat=problem.num_of_vars)\n",
    "        min_num_of_sat = float('inf')\n",
    "        best_valuation = None\n",
    "        iters = 0\n",
    "        for valuation in all_valuations:\n",
    "            iters += 1\n",
    "            num_of_sat = 0\n",
    "            for formula in problem.cnf_list:\n",
    "                if formula.evaluate(valuation):\n",
    "                    num_of_sat += 1\n",
    "            if num_of_sat < min_num_of_sat:\n",
    "                min_num_of_sat = num_of_sat\n",
    "                best_valuation = valuation\n",
    "        return min_num_of_sat, best_valuation"
   ]
  },
  {
   "cell_type": "code",
   "execution_count": 164,
   "outputs": [],
   "source": [
    "class GeneticSolver:\n",
    "    def __init__(self, num_of_generations=10, population_size=10, mutation_probability=0.2):\n",
    "        self.num_of_generations = num_of_generations\n",
    "        self.population_size = population_size\n",
    "        self.mutation_probability = mutation_probability\n",
    "\n",
    "    def _generate_population(self, problem):\n",
    "        chromosome_dim = problem.num_of_vars\n",
    "        return [[random.choice([True, False]) for _ in range(chromosome_dim)] for _ in range(self.population_size)]\n",
    "\n",
    "    def _fitness(self, problem, chromosome):\n",
    "        num_of_sat = 0\n",
    "        for formula in problem.cnf_list:\n",
    "            if formula.evaluate(chromosome):\n",
    "                num_of_sat = num_of_sat + 1\n",
    "        return num_of_sat\n",
    "\n",
    "    def _selection(self, population, fitness_list):\n",
    "        # FIX maybe better _selection, or lower mutation\n",
    "        return random.choices(population, weights=[1 / (fitness + 1) for fitness in fitness_list], k=1)[0]\n",
    "\n",
    "    def _crossover(self, parent_1, parent_2):\n",
    "        bp = random.randrange(len(parent_1))\n",
    "        child_1 = parent_1[:bp] + parent_2[bp:]\n",
    "        child_2 = parent_2[:bp] + parent_1[bp:]\n",
    "        return child_1, child_2\n",
    "\n",
    "    def _mutate(self, chromosome):\n",
    "        if random.random() < self.mutation_probability:\n",
    "            index = random.randrange(len(chromosome))\n",
    "            chromosome[index] = not chromosome[index]\n",
    "\n",
    "    def solve(self, problem):\n",
    "        population = self._generate_population(problem)\n",
    "        fitness_list = [self._fitness(problem, chromosome) for chromosome in population]\n",
    "        min_sat = min(fitness_list)\n",
    "        new_population = [None for _ in range(len(population))]\n",
    "        for i in range(self.num_of_generations):\n",
    "            for j in range(self.population_size // 2):\n",
    "                parent_1 = self._selection(population, fitness_list)\n",
    "                parent_2 = self._selection(population, fitness_list)\n",
    "                child_1, child_2 = self._crossover(parent_1, parent_2)\n",
    "                self._mutate(child_1)\n",
    "                self._mutate(child_2)\n",
    "                new_population[2 * j] = child_1\n",
    "                new_population[2 * j + 1] = child_2\n",
    "            population = new_population\n",
    "            fitness_list = [self._fitness(problem, chromosome) for chromosome in population]\n",
    "            min_sat = min(fitness_list + [min_sat])\n",
    "            print(f'generation[{i}] :  {min_sat}')\n",
    "        return min_sat"
   ],
   "metadata": {
    "collapsed": false
   }
  },
  {
   "cell_type": "code",
   "execution_count": 165,
   "id": "29f63c58",
   "metadata": {},
   "outputs": [
    {
     "name": "stdout",
     "output_type": "stream",
     "text": [
      "(30, (True, True, True, False, False, False, False, False, True, True))\n",
      "generation[0] :  32\n",
      "generation[1] :  32\n",
      "generation[2] :  32\n",
      "generation[3] :  32\n",
      "generation[4] :  31\n",
      "generation[5] :  31\n",
      "generation[6] :  31\n",
      "generation[7] :  31\n",
      "generation[8] :  31\n",
      "generation[9] :  30\n",
      "30\n"
     ]
    }
   ],
   "source": [
    "p = Problem('problem_instances/1.json')\n",
    "bf_solver = BFSolver()\n",
    "print(BFSolver.solve(p))\n",
    "ga_solver = GeneticSolver()\n",
    "print(ga_solver.solve(p))"
   ]
  }
 ],
 "metadata": {
  "kernelspec": {
   "display_name": "Python 3 (ipykernel)",
   "language": "python",
   "name": "python3"
  },
  "language_info": {
   "codemirror_mode": {
    "name": "ipython",
    "version": 3
   },
   "file_extension": ".py",
   "mimetype": "text/x-python",
   "name": "python",
   "nbconvert_exporter": "python",
   "pygments_lexer": "ipython3",
   "version": "3.8.10"
  }
 },
 "nbformat": 4,
 "nbformat_minor": 5
}
